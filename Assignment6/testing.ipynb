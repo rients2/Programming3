{
 "cells": [
  {
   "cell_type": "code",
   "execution_count": 5,
   "metadata": {},
   "outputs": [],
   "source": [
    "import csv\n",
    "import glob\n",
    "import pickle\n",
    "import numpy as np\n",
    "import pandas as pd\n",
    "import networkx as nx\n",
    "import dask.dataframe as dd\n",
    "import multiprocessing as mp\n",
    "import xml.etree.ElementTree as ET"
   ]
  },
  {
   "cell_type": "code",
   "execution_count": 44,
   "metadata": {},
   "outputs": [],
   "source": [
    "def article_author(myroot):\n",
    "\n",
    "    # Function creates a dataframe with all the authors and the corresponding paper the authored or coauthored.\n",
    "    # Can be used to create a bipartite author-paper network.\n",
    "\n",
    "    full_name = []\n",
    "    pubmed_id = []\n",
    "\n",
    "\n",
    "    # First loop over every article in the xml file.\n",
    "    for k in range(0, len(myroot)):\n",
    "        # Then get the the article tag which is in the medlinecitation\n",
    "        for child in myroot[k][0]:\n",
    "            if child.tag == 'Article':\n",
    "                # Then we need the author list. \n",
    "                for second_child in child:\n",
    "                    if second_child.tag == 'AuthorList':\n",
    "                        # Then in the authorlist we need all the authors for one paper.\n",
    "                        for k2 in range(0, len(second_child)):\n",
    "                            # For every author append the corresponding id to a list\n",
    "                            pubmed_id.append(myroot[k][0][0].text)\n",
    "                            # Getting the authors last name\n",
    "                            lastname = second_child[k2][0].text\n",
    "                            # Not all authors have their first name listed.\n",
    "                            try:\n",
    "                                firstname = second_child[k2][1].text\n",
    "                            except:\n",
    "                                firstname = '-'\n",
    "                            # Create a full name and append it to a list\n",
    "                            try:\n",
    "                                name = str(firstname) + ' ' + str(lastname)\n",
    "                            except:\n",
    "                                name = 'None'\n",
    "\n",
    "                            full_name.append(name)\n",
    "\n",
    "    # Turn both lists created into a dataframe.                                                   \n",
    "    db = pd.DataFrame((pubmed_id, full_name)).T\n",
    "\n",
    "    return db"
   ]
  },
  {
   "cell_type": "code",
   "execution_count": null,
   "metadata": {},
   "outputs": [],
   "source": [
    "# Code to add publish date.\n",
    "    # elif second_child.tag == 'Journal':\n",
    "    #     for third_child in second_child[1]:\n",
    "    #         if third_child.tag == 'PubDate':\n",
    "    #             year = third_child[0].text\n",
    "    #             try:\n",
    "    #                 month = third_child[1].text\n",
    "    #             except:\n",
    "    #                 month = ''\n",
    "    #             try:\n",
    "    #                 day = third_child[2].text\n",
    "    #             except:\n",
    "    #                 day = ''\n",
    "\n",
    "    #             publishDate = year + ' ' + month + ' ' + day\n",
    "    #             publish_date.append(publishDate)"
   ]
  },
  {
   "cell_type": "code",
   "execution_count": 50,
   "metadata": {},
   "outputs": [],
   "source": [
    "def citation_graph(myroot):\n",
    "\n",
    "    #Function that creates a dataframe with all papers and their references.\n",
    "    # Can be used to create a citation graph/network.\n",
    "\n",
    "    # Currently only obtains papers if they cite another paper not those without.\n",
    "    \n",
    "    references = []\n",
    "    pubmed_id = []\n",
    "    # First loop over every article in the xml file.\n",
    "    for k in range(0, len(myroot)):\n",
    "        # Then get the references which is in the reference list tag.\n",
    "        for ref_child in myroot[k][1]:\n",
    "            if ref_child.tag ==  'ReferenceList':\n",
    "                # Then add the reference and the corresponing pubmed id to lists.\n",
    "                for ref_child2 in ref_child:\n",
    "                    reference = ref_child2[1][0].text\n",
    "                    pubmed_id.append(myroot[k][0][0].text)\n",
    "\n",
    "                    references.append(reference)\n",
    "    # combine the lists into a dataframe\n",
    "    ref_db = pd.DataFrame((pubmed_id, references)).T\n",
    "\n",
    "    return ref_db"
   ]
  },
  {
   "cell_type": "code",
   "execution_count": 6,
   "metadata": {},
   "outputs": [],
   "source": [
    "path = '/data/dataprocessing/NCBI/PubMed/'\n",
    "files = glob.glob(path + '*.xml')"
   ]
  },
  {
   "cell_type": "code",
   "execution_count": 7,
   "metadata": {},
   "outputs": [],
   "source": [
    "mytree = ET.parse(files[70])\n",
    "myroot = mytree.getroot()"
   ]
  },
  {
   "cell_type": "code",
   "execution_count": 14,
   "metadata": {},
   "outputs": [],
   "source": [
    "df = article_author(myroot)"
   ]
  },
  {
   "cell_type": "code",
   "execution_count": 51,
   "metadata": {},
   "outputs": [],
   "source": [
    "df2 = citation_graph(myroot)"
   ]
  },
  {
   "cell_type": "code",
   "execution_count": 73,
   "metadata": {},
   "outputs": [],
   "source": [
    "def keyword_collector():\n",
    "    # Function that creates a dataframe with all the pubmedids and their keywords. \n",
    "    # Known issue: Only obtains pubmedIDs if they have keywords. If they dont they get left out.\n",
    "\n",
    "    keyword_list = []\n",
    "    pubmed_id = []\n",
    "    # Looping over all the articles.\n",
    "    for k in range(0, len(myroot)):\n",
    "        # Finding the location of keywords.\n",
    "        for keyword_child in myroot[k][0]:\n",
    "            if keyword_child.tag == 'MeshHeadingList':\n",
    "                # Creating a list to store keywords per article.\n",
    "                indv_list = []\n",
    "                # Getting the individual keywords per article\n",
    "                for keyword_child2 in keyword_child:\n",
    "                    indv_list.append(keyword_child2[0].text)\n",
    "                # Adding the keywords to a larger list.\n",
    "                keyword_list.append(indv_list)\n",
    "                # Adding the pubmedid they belong to.\n",
    "                pubmed_id.append(myroot[k][0][0].text)\n",
    "    db = pd.DataFrame((pubmed_id, keyword_list)).T\n",
    "    return db"
   ]
  },
  {
   "cell_type": "code",
   "execution_count": 41,
   "metadata": {},
   "outputs": [],
   "source": [
    "def dataframer(myroot):\n",
    "    # Function that creates a dataframe with everything.\n",
    "    # Will require some reformatting.\n",
    "\n",
    "    full_name = []\n",
    "    pubmed_id = []\n",
    "\n",
    "    keyword_list = []\n",
    "    key_pubmed_id = []\n",
    "\n",
    "    references = []\n",
    "    ref_pubmed_id = []\n",
    "    \n",
    "    # Looping over all the articles.\n",
    "    for k in range(0, len(myroot)):\n",
    "        # Finding the location of keywords.\n",
    "        for child in myroot[k][0]:\n",
    "\n",
    "            # Obtaining the authors.\n",
    "            if child.tag == 'Article':\n",
    "                # Then we need the author list. \n",
    "                full_name_list = []\n",
    "                for second_child in child:\n",
    "                    if second_child.tag == 'AuthorList':\n",
    "                        # Then in the authorlist we need all the authors for one paper.\n",
    "                        for k2 in range(0, len(second_child)):\n",
    "                            # Getting the authors last name\n",
    "                            lastname = second_child[k2][0].text\n",
    "                            # Not all authors have their first name listed.\n",
    "                            try:\n",
    "                                firstname = second_child[k2][1].text\n",
    "                            except:\n",
    "                                firstname = '-'\n",
    "                            # Create a full name and append it to a list\n",
    "                            try:\n",
    "                                name = str(firstname) + ' ' + str(lastname)\n",
    "                            except:\n",
    "                                name = 'None'\n",
    "                            full_name_list.append(name)\n",
    "                # For every author append the corresponding id to a list\n",
    "                pubmed_id.append(myroot[k][0][0].text)\n",
    "                full_name.append(full_name_list)\n",
    "\n",
    "\n",
    "            if child.tag == 'MeshHeadingList':\n",
    "                # Creating a list to store keywords per article.\n",
    "                indv_list = []\n",
    "                # Getting the individual keywords per article\n",
    "                for keyword_child2 in child:\n",
    "                    indv_list.append(keyword_child2[0].text)\n",
    "                # Adding the keywords to a larger list.\n",
    "                keyword_list.append(indv_list)\n",
    "                # Adding the pubmedid they belong to.\n",
    "                key_pubmed_id.append(myroot[k][0][0].text)\n",
    "\n",
    "\n",
    "        for child in myroot[k][1]:\n",
    "            # Finding the references.\n",
    "            if child.tag ==  'ReferenceList':\n",
    "                # Then add the reference and the corresponing pubmed id to lists.\n",
    "                ref_list = []\n",
    "                for ref_child2 in child:\n",
    "                    reference = ref_child2[1][0].text\n",
    "                    ref_list.append(reference)\n",
    "                ref_pubmed_id.append(myroot[k][0][0].text)\n",
    "                references.append(ref_list)\n",
    "\n",
    "    # combine the lists into a dataframe                                                  \n",
    "    auth_db = pd.DataFrame((pubmed_id, full_name)).T\n",
    "\n",
    "    ref_db = pd.DataFrame((ref_pubmed_id, references)).T\n",
    "                \n",
    "    key_db = pd.DataFrame((key_pubmed_id, keyword_list)).T\n",
    "\n",
    "\n",
    "    return ref_db, key_db, auth_db"
   ]
  },
  {
   "cell_type": "code",
   "execution_count": 18,
   "metadata": {},
   "outputs": [],
   "source": [
    "def data_merger(myroot):\n",
    "    dataframes = dataframer(myroot)\n",
    "    references = dataframes[0]\n",
    "    keywords = dataframes[1]\n",
    "    authors = dataframes[2]\n",
    "\n",
    "    authref = authors.merge(references, how='left', left_on=0, right_on=0)\n",
    "    full_df = authref.merge(keywords, how='left', left_on=0, right_on=0)\n",
    "\n",
    "    full_df = full_df.rename(columns={0:'pubmedID', '1_x':'Authors', '1_y':'Refs', 1:'keywords'})\n",
    "\n",
    "    return full_df"
   ]
  },
  {
   "cell_type": "code",
   "execution_count": 42,
   "metadata": {},
   "outputs": [],
   "source": [
    "test2 = dataframer(myroot)\n"
   ]
  },
  {
   "cell_type": "code",
   "execution_count": 44,
   "metadata": {},
   "outputs": [],
   "source": [
    "test = data_merger(myroot)"
   ]
  },
  {
   "cell_type": "code",
   "execution_count": 46,
   "metadata": {},
   "outputs": [
    {
     "name": "stdout",
     "output_type": "stream",
     "text": [
      "<class 'pandas.core.frame.DataFrame'>\n",
      "Int64Index: 30000 entries, 0 to 29999\n",
      "Data columns (total 4 columns):\n",
      " #   Column    Non-Null Count  Dtype \n",
      "---  ------    --------------  ----- \n",
      " 0   pubmedID  30000 non-null  object\n",
      " 1   Authors   30000 non-null  object\n",
      " 2   Refs      2713 non-null   object\n",
      " 3   keywords  29999 non-null  object\n",
      "dtypes: object(4)\n",
      "memory usage: 1.1+ MB\n"
     ]
    }
   ],
   "source": [
    "test.info()"
   ]
  },
  {
   "cell_type": "code",
   "execution_count": null,
   "metadata": {},
   "outputs": [],
   "source": []
  }
 ],
 "metadata": {
  "kernelspec": {
   "display_name": "Python 3.8.12 ('base')",
   "language": "python",
   "name": "python3"
  },
  "language_info": {
   "codemirror_mode": {
    "name": "ipython",
    "version": 3
   },
   "file_extension": ".py",
   "mimetype": "text/x-python",
   "name": "python",
   "nbconvert_exporter": "python",
   "pygments_lexer": "ipython3",
   "version": "3.9.12"
  },
  "orig_nbformat": 4,
  "vscode": {
   "interpreter": {
    "hash": "ca1b872015604588654afab8889c327752f46265fe55163fa640f2d3ca6aaea6"
   }
  }
 },
 "nbformat": 4,
 "nbformat_minor": 2
}
