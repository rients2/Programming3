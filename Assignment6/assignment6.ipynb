{
 "cells": [
  {
   "cell_type": "code",
   "execution_count": 232,
   "metadata": {},
   "outputs": [],
   "source": [
    "import glob\n",
    "import pickle\n",
    "import pandas as pd\n",
    "import networkx as nx\n",
    "import multiprocessing as mp\n",
    "import xml.etree.ElementTree as ET"
   ]
  },
  {
   "cell_type": "markdown",
   "metadata": {},
   "source": [
    "* How large a group of co-authors does the average publication have?\n",
    "\n",
    "Get all the articles and authors and count the authors.\n",
    "\n",
    "* Do authors mostly publish using always the same group of authors?\n",
    "\n",
    "\n",
    "\n",
    "* Do authors mainly reference papers with other authors with whom they've co-authored papers (including themselves)?\n",
    "\n",
    "\n",
    "* What is the distribution in time for citations of papers in general, and for papers with the highest number of citations? Do they differ?\n",
    "* Is there a correlation between citations and the number of keywords that papers share? I.e. papers which share the same subject cite each other more often.\n",
    "* For the most-cited papers (define your own cutoff), is the correlation in shared keywords between them and the papers that cite them different from (5) "
   ]
  },
  {
   "cell_type": "code",
   "execution_count": 236,
   "metadata": {},
   "outputs": [],
   "source": [
    "def article_author(myroot):\n",
    "    # Behold my xml tree parser.\n",
    "    # If it works it aint stupid.\n",
    "\n",
    "    full_name = []\n",
    "    pubmed_id = []\n",
    "\n",
    "    # First loop over every article in the xml file.\n",
    "    for k in range(0, len(myroot)):\n",
    "        # Then get the the article tag which is in the medlinecitation\n",
    "        for child in myroot[k][0]:\n",
    "            if child.tag == 'Article':\n",
    "                # Then we need the author list. \n",
    "                for second_child in child:\n",
    "                    if second_child.tag == 'AuthorList':\n",
    "                        # Then in the authorlist we need all the authors for one paper.\n",
    "                        for k2 in range(0, len(second_child)):\n",
    "                            # For every author append the corresponding id to a list\n",
    "                            pubmed_id.append(myroot[k][0][0].text)\n",
    "                            # Getting the authors last name\n",
    "                            lastname = second_child[k2][0].text\n",
    "                            # Not all authors have their first name listed.\n",
    "                            try:\n",
    "                                firstname = second_child[k2][1].text\n",
    "                            except:\n",
    "                                firstname = '-'\n",
    "                            # Create a full name and append it to a list\n",
    "                            try:\n",
    "                                name = str(firstname) + ' ' + str(lastname)\n",
    "                            except:\n",
    "                                name = 'None'\n",
    "\n",
    "                            full_name.append(name)\n",
    "\n",
    "    # Turn both lists created into a dataframe.                                                   \n",
    "    db = pd.DataFrame((pubmed_id, full_name)).T\n",
    "\n",
    "    return db"
   ]
  },
  {
   "cell_type": "code",
   "execution_count": 240,
   "metadata": {},
   "outputs": [],
   "source": [
    "def databaser(files):\n",
    "    print('working on: ', files)\n",
    "    mytree = ET.parse(files)\n",
    "    myroot = mytree.getroot()\n",
    "    df = article_author(myroot)\n",
    "    Full_df = Full_df.append(df)\n",
    "\n",
    "    Full_df.to_pickle(f'/homes/rdalstra/Documents/Programming3/Assignment6/output/{files}.pkl')\n",
    "\n"
   ]
  },
  {
   "cell_type": "code",
   "execution_count": 241,
   "metadata": {},
   "outputs": [],
   "source": [
    "def runner(files):\n",
    "    cpus = 48\n",
    "    with mp.Pool(cpus) as pool:\n",
    "        results = pool.map(databaser, files)"
   ]
  },
  {
   "cell_type": "code",
   "execution_count": null,
   "metadata": {},
   "outputs": [],
   "source": [
    "# if __name__ == \"__main__\":\n",
    "#     Full_df = pd.DataFrame()\n",
    "#     path = '/data/dataprocessing/NCBI/PubMed/'\n",
    "#     files = glob.glob(path + '*.xml')\n",
    "#     runner(files)"
   ]
  },
  {
   "cell_type": "code",
   "execution_count": 246,
   "metadata": {},
   "outputs": [],
   "source": [
    "path = '/data/dataprocessing/NCBI/PubMed/'\n",
    "files = glob.glob(path + '*.xml')"
   ]
  },
  {
   "cell_type": "code",
   "execution_count": 253,
   "metadata": {},
   "outputs": [
    {
     "data": {
      "text/plain": [
       "'pubmed21n0002'"
      ]
     },
     "execution_count": 253,
     "metadata": {},
     "output_type": "execute_result"
    }
   ],
   "source": [
    "files[1][33:-4]"
   ]
  },
  {
   "cell_type": "code",
   "execution_count": 254,
   "metadata": {},
   "outputs": [],
   "source": [
    "check = pd.read_pickle('/homes/rdalstra/Documents/Programming3/Assignment6/output/test.pkl')"
   ]
  },
  {
   "cell_type": "code",
   "execution_count": 255,
   "metadata": {},
   "outputs": [
    {
     "data": {
      "text/html": [
       "<div>\n",
       "<style scoped>\n",
       "    .dataframe tbody tr th:only-of-type {\n",
       "        vertical-align: middle;\n",
       "    }\n",
       "\n",
       "    .dataframe tbody tr th {\n",
       "        vertical-align: top;\n",
       "    }\n",
       "\n",
       "    .dataframe thead th {\n",
       "        text-align: right;\n",
       "    }\n",
       "</style>\n",
       "<table border=\"1\" class=\"dataframe\">\n",
       "  <thead>\n",
       "    <tr style=\"text-align: right;\">\n",
       "      <th></th>\n",
       "      <th>0</th>\n",
       "      <th>1</th>\n",
       "    </tr>\n",
       "  </thead>\n",
       "  <tbody>\n",
       "    <tr>\n",
       "      <th>0</th>\n",
       "      <td>22099534</td>\n",
       "      <td>Ashish Khandelwal</td>\n",
       "    </tr>\n",
       "    <tr>\n",
       "      <th>1</th>\n",
       "      <td>22099534</td>\n",
       "      <td>Ankur Gupta</td>\n",
       "    </tr>\n",
       "    <tr>\n",
       "      <th>2</th>\n",
       "      <td>22099534</td>\n",
       "      <td>Preeti Gupta</td>\n",
       "    </tr>\n",
       "    <tr>\n",
       "      <th>3</th>\n",
       "      <td>22099535</td>\n",
       "      <td>Maria Elisabetta Coccia</td>\n",
       "    </tr>\n",
       "    <tr>\n",
       "      <th>4</th>\n",
       "      <td>22099535</td>\n",
       "      <td>Francesca Rizzello</td>\n",
       "    </tr>\n",
       "    <tr>\n",
       "      <th>...</th>\n",
       "      <td>...</td>\n",
       "      <td>...</td>\n",
       "    </tr>\n",
       "    <tr>\n",
       "      <th>148816</th>\n",
       "      <td>22131297</td>\n",
       "      <td>Frances Shawyer</td>\n",
       "    </tr>\n",
       "    <tr>\n",
       "      <th>148817</th>\n",
       "      <td>22131295</td>\n",
       "      <td>Larissa V Stebounova</td>\n",
       "    </tr>\n",
       "    <tr>\n",
       "      <th>148818</th>\n",
       "      <td>22131295</td>\n",
       "      <td>Hallie Morgan</td>\n",
       "    </tr>\n",
       "    <tr>\n",
       "      <th>148819</th>\n",
       "      <td>22131295</td>\n",
       "      <td>Vicki H Grassian</td>\n",
       "    </tr>\n",
       "    <tr>\n",
       "      <th>148820</th>\n",
       "      <td>22131295</td>\n",
       "      <td>Sara Brenner</td>\n",
       "    </tr>\n",
       "  </tbody>\n",
       "</table>\n",
       "<p>148821 rows × 2 columns</p>\n",
       "</div>"
      ],
      "text/plain": [
       "               0                        1\n",
       "0       22099534        Ashish Khandelwal\n",
       "1       22099534              Ankur Gupta\n",
       "2       22099534             Preeti Gupta\n",
       "3       22099535  Maria Elisabetta Coccia\n",
       "4       22099535       Francesca Rizzello\n",
       "...          ...                      ...\n",
       "148816  22131297          Frances Shawyer\n",
       "148817  22131295     Larissa V Stebounova\n",
       "148818  22131295            Hallie Morgan\n",
       "148819  22131295         Vicki H Grassian\n",
       "148820  22131295             Sara Brenner\n",
       "\n",
       "[148821 rows x 2 columns]"
      ]
     },
     "execution_count": 255,
     "metadata": {},
     "output_type": "execute_result"
    }
   ],
   "source": [
    "check"
   ]
  },
  {
   "cell_type": "code",
   "execution_count": 245,
   "metadata": {},
   "outputs": [
    {
     "data": {
      "text/html": [
       "<div>\n",
       "<style scoped>\n",
       "    .dataframe tbody tr th:only-of-type {\n",
       "        vertical-align: middle;\n",
       "    }\n",
       "\n",
       "    .dataframe tbody tr th {\n",
       "        vertical-align: top;\n",
       "    }\n",
       "\n",
       "    .dataframe thead th {\n",
       "        text-align: right;\n",
       "    }\n",
       "</style>\n",
       "<table border=\"1\" class=\"dataframe\">\n",
       "  <thead>\n",
       "    <tr style=\"text-align: right;\">\n",
       "      <th></th>\n",
       "      <th>0</th>\n",
       "      <th>1</th>\n",
       "    </tr>\n",
       "  </thead>\n",
       "  <tbody>\n",
       "    <tr>\n",
       "      <th>0</th>\n",
       "      <td>489576</td>\n",
       "      <td>D I Meyer</td>\n",
       "    </tr>\n",
       "    <tr>\n",
       "      <th>1</th>\n",
       "      <td>489576</td>\n",
       "      <td>M M Burger</td>\n",
       "    </tr>\n",
       "    <tr>\n",
       "      <th>2</th>\n",
       "      <td>489577</td>\n",
       "      <td>K P Mullinix</td>\n",
       "    </tr>\n",
       "    <tr>\n",
       "      <th>3</th>\n",
       "      <td>489577</td>\n",
       "      <td>M B Meyers</td>\n",
       "    </tr>\n",
       "    <tr>\n",
       "      <th>4</th>\n",
       "      <td>489577</td>\n",
       "      <td>J L Christmann</td>\n",
       "    </tr>\n",
       "    <tr>\n",
       "      <th>...</th>\n",
       "      <td>...</td>\n",
       "      <td>...</td>\n",
       "    </tr>\n",
       "    <tr>\n",
       "      <th>77996</th>\n",
       "      <td>519579</td>\n",
       "      <td>A Imlach</td>\n",
       "    </tr>\n",
       "    <tr>\n",
       "      <th>77997</th>\n",
       "      <td>519580</td>\n",
       "      <td>D Woods</td>\n",
       "    </tr>\n",
       "    <tr>\n",
       "      <th>77998</th>\n",
       "      <td>519582</td>\n",
       "      <td>D Woods</td>\n",
       "    </tr>\n",
       "    <tr>\n",
       "      <th>77999</th>\n",
       "      <td>519583</td>\n",
       "      <td>A Gilmore</td>\n",
       "    </tr>\n",
       "    <tr>\n",
       "      <th>78000</th>\n",
       "      <td>519584</td>\n",
       "      <td>S Henry</td>\n",
       "    </tr>\n",
       "  </tbody>\n",
       "</table>\n",
       "<p>78001 rows × 2 columns</p>\n",
       "</div>"
      ],
      "text/plain": [
       "            0               1\n",
       "0      489576       D I Meyer\n",
       "1      489576      M M Burger\n",
       "2      489577    K P Mullinix\n",
       "3      489577      M B Meyers\n",
       "4      489577  J L Christmann\n",
       "...       ...             ...\n",
       "77996  519579        A Imlach\n",
       "77997  519580         D Woods\n",
       "77998  519582         D Woods\n",
       "77999  519583       A Gilmore\n",
       "78000  519584         S Henry\n",
       "\n",
       "[78001 rows x 2 columns]"
      ]
     },
     "execution_count": 245,
     "metadata": {},
     "output_type": "execute_result"
    }
   ],
   "source": [
    "check"
   ]
  },
  {
   "cell_type": "code",
   "execution_count": null,
   "metadata": {},
   "outputs": [],
   "source": [
    "# testfile = 0717\n",
    "'/data/dataprocessing/NCBI/PubMed/pubmed21n0717.xml'"
   ]
  },
  {
   "cell_type": "code",
   "execution_count": 222,
   "metadata": {},
   "outputs": [
    {
     "name": "stdout",
     "output_type": "stream",
     "text": [
      "The papers have 5 authors on average\n"
     ]
    }
   ],
   "source": [
    "# Question1.\n",
    "total = len(Full_df) \n",
    "\n",
    "uniques = Full_df[0].nunique()\n",
    "\n",
    "average_authors = round(total / uniques)\n",
    "\n",
    "print('The papers have', average_authors, 'authors on average')"
   ]
  },
  {
   "cell_type": "markdown",
   "metadata": {},
   "source": [
    "# TEST code\n",
    "\n",
    "[\n",
    "    [\n",
    "        [\n",
    "            [\n",
    "                [\n",
    "                    [\n",
    "\n",
    "                        [\n",
    "                            [\n",
    "                                [\n",
    "                                    [\n",
    "                                        [\n",
    "                                            [\n",
    "                                                \n",
    "                                            ]\n",
    "                                        ]\n",
    "                                    ]\n",
    "                                ]\n",
    "                    ]\n",
    "                ]\n",
    "            ]\n",
    "        ]\n",
    "    ]\n",
    "]"
   ]
  },
  {
   "cell_type": "code",
   "execution_count": 151,
   "metadata": {},
   "outputs": [
    {
     "ename": "IndexError",
     "evalue": "child index out of range",
     "output_type": "error",
     "traceback": [
      "\u001b[0;31m---------------------------------------------------------------------------\u001b[0m",
      "\u001b[0;31mIndexError\u001b[0m                                Traceback (most recent call last)",
      "\u001b[0;32m/tmp/ipykernel_153462/3824623363.py\u001b[0m in \u001b[0;36m<module>\u001b[0;34m\u001b[0m\n\u001b[1;32m      1\u001b[0m \u001b[0;32mfor\u001b[0m \u001b[0mk\u001b[0m \u001b[0;32min\u001b[0m \u001b[0mrange\u001b[0m\u001b[0;34m(\u001b[0m\u001b[0;36m0\u001b[0m\u001b[0;34m,\u001b[0m \u001b[0mlen\u001b[0m\u001b[0;34m(\u001b[0m\u001b[0mmyroot\u001b[0m\u001b[0;34m)\u001b[0m\u001b[0;34m)\u001b[0m\u001b[0;34m:\u001b[0m\u001b[0;34m\u001b[0m\u001b[0;34m\u001b[0m\u001b[0m\n\u001b[1;32m      2\u001b[0m     \u001b[0;32mfor\u001b[0m \u001b[0mchild\u001b[0m \u001b[0;32min\u001b[0m \u001b[0mmyroot\u001b[0m\u001b[0;34m[\u001b[0m\u001b[0mk\u001b[0m\u001b[0;34m]\u001b[0m\u001b[0;34m[\u001b[0m\u001b[0;36m0\u001b[0m\u001b[0;34m]\u001b[0m\u001b[0;34m:\u001b[0m\u001b[0;34m\u001b[0m\u001b[0;34m\u001b[0m\u001b[0m\n\u001b[0;32m----> 3\u001b[0;31m         \u001b[0mprint\u001b[0m\u001b[0;34m(\u001b[0m\u001b[0mchild\u001b[0m\u001b[0;34m[\u001b[0m\u001b[0;36m0\u001b[0m\u001b[0;34m]\u001b[0m\u001b[0;34m.\u001b[0m\u001b[0mtext\u001b[0m\u001b[0;34m)\u001b[0m\u001b[0;34m\u001b[0m\u001b[0;34m\u001b[0m\u001b[0m\n\u001b[0m\u001b[1;32m      4\u001b[0m \u001b[0;34m\u001b[0m\u001b[0m\n",
      "\u001b[0;31mIndexError\u001b[0m: child index out of range"
     ]
    }
   ],
   "source": [
    "for k in range(0, len(myroot)):\n",
    "    for child in myroot[k][0]:\n",
    "        try:\n",
    "            print(child[0].text)\n",
    "  "
   ]
  },
  {
   "cell_type": "code",
   "execution_count": 58,
   "metadata": {},
   "outputs": [],
   "source": [
    "names = []\n",
    "pubmed_id = []\n",
    "for title_name, firstname, lastname in zip(myroot.iter('PMID'), myroot.iter('ForeName'), myroot.iter('LastName')):\n",
    "    full_name = [str(firstname.text) + ' ' + str(lastname.text)]\n",
    "    names.append(full_name)\n",
    "    pubmed_id.append(title_name.text)\n",
    "article = pd.DataFrame((pubmed_id, names)).T"
   ]
  },
  {
   "cell_type": "code",
   "execution_count": 74,
   "metadata": {},
   "outputs": [
    {
     "data": {
      "text/html": [
       "<div>\n",
       "<style scoped>\n",
       "    .dataframe tbody tr th:only-of-type {\n",
       "        vertical-align: middle;\n",
       "    }\n",
       "\n",
       "    .dataframe tbody tr th {\n",
       "        vertical-align: top;\n",
       "    }\n",
       "\n",
       "    .dataframe thead th {\n",
       "        text-align: right;\n",
       "    }\n",
       "</style>\n",
       "<table border=\"1\" class=\"dataframe\">\n",
       "  <thead>\n",
       "    <tr style=\"text-align: right;\">\n",
       "      <th></th>\n",
       "      <th>0</th>\n",
       "      <th>1</th>\n",
       "    </tr>\n",
       "  </thead>\n",
       "  <tbody>\n",
       "    <tr>\n",
       "      <th>0</th>\n",
       "      <td>30970</td>\n",
       "      <td>[P Tcherdakoff]</td>\n",
       "    </tr>\n",
       "    <tr>\n",
       "      <th>1</th>\n",
       "      <td>30971</td>\n",
       "      <td>[D Dubois]</td>\n",
       "    </tr>\n",
       "    <tr>\n",
       "      <th>2</th>\n",
       "      <td>30972</td>\n",
       "      <td>[J Petitcolas]</td>\n",
       "    </tr>\n",
       "    <tr>\n",
       "      <th>3</th>\n",
       "      <td>30973</td>\n",
       "      <td>[W Makowska]</td>\n",
       "    </tr>\n",
       "    <tr>\n",
       "      <th>4</th>\n",
       "      <td>30974</td>\n",
       "      <td>[E Zawisza]</td>\n",
       "    </tr>\n",
       "    <tr>\n",
       "      <th>...</th>\n",
       "      <td>...</td>\n",
       "      <td>...</td>\n",
       "    </tr>\n",
       "    <tr>\n",
       "      <th>29998</th>\n",
       "      <td>61530</td>\n",
       "      <td>[T L Mattes]</td>\n",
       "    </tr>\n",
       "    <tr>\n",
       "      <th>29999</th>\n",
       "      <td>61531</td>\n",
       "      <td>[L Z Klein]</td>\n",
       "    </tr>\n",
       "    <tr>\n",
       "      <th>30000</th>\n",
       "      <td>61532</td>\n",
       "      <td>[A Vidershaĭn]</td>\n",
       "    </tr>\n",
       "    <tr>\n",
       "      <th>30001</th>\n",
       "      <td>61533</td>\n",
       "      <td>[A H Beĭer]</td>\n",
       "    </tr>\n",
       "    <tr>\n",
       "      <th>30002</th>\n",
       "      <td>61534</td>\n",
       "      <td>[G C Kliashchitskiĭ]</td>\n",
       "    </tr>\n",
       "  </tbody>\n",
       "</table>\n",
       "<p>30003 rows × 2 columns</p>\n",
       "</div>"
      ],
      "text/plain": [
       "           0                     1\n",
       "0      30970       [P Tcherdakoff]\n",
       "1      30971            [D Dubois]\n",
       "2      30972        [J Petitcolas]\n",
       "3      30973          [W Makowska]\n",
       "4      30974           [E Zawisza]\n",
       "...      ...                   ...\n",
       "29998  61530          [T L Mattes]\n",
       "29999  61531           [L Z Klein]\n",
       "30000  61532        [A Vidershaĭn]\n",
       "30001  61533           [A H Beĭer]\n",
       "30002  61534  [G C Kliashchitskiĭ]\n",
       "\n",
       "[30003 rows x 2 columns]"
      ]
     },
     "execution_count": 74,
     "metadata": {},
     "output_type": "execute_result"
    }
   ],
   "source": [
    "article"
   ]
  },
  {
   "cell_type": "code",
   "execution_count": 120,
   "metadata": {},
   "outputs": [],
   "source": [
    "pubmed_id = []\n",
    "for title_name in myroot.iter('PMID'):\n",
    "    pubmed_id.append(title_name.text)\n",
    "article = pd.DataFrame(pubmed_id)"
   ]
  },
  {
   "cell_type": "code",
   "execution_count": 122,
   "metadata": {},
   "outputs": [],
   "source": [
    "names = []\n",
    "for firstname, lastname in zip(myroot.iter('ForeName'), myroot.iter('LastName')):\n",
    "    full_name = [str(firstname.text) + ' ' + str(lastname.text)]\n",
    "    names.append(full_name)\n",
    "article_names = pd.DataFrame(names)"
   ]
  },
  {
   "cell_type": "code",
   "execution_count": 123,
   "metadata": {},
   "outputs": [
    {
     "data": {
      "text/html": [
       "<div>\n",
       "<style scoped>\n",
       "    .dataframe tbody tr th:only-of-type {\n",
       "        vertical-align: middle;\n",
       "    }\n",
       "\n",
       "    .dataframe tbody tr th {\n",
       "        vertical-align: top;\n",
       "    }\n",
       "\n",
       "    .dataframe thead th {\n",
       "        text-align: right;\n",
       "    }\n",
       "</style>\n",
       "<table border=\"1\" class=\"dataframe\">\n",
       "  <thead>\n",
       "    <tr style=\"text-align: right;\">\n",
       "      <th></th>\n",
       "      <th>0</th>\n",
       "    </tr>\n",
       "  </thead>\n",
       "  <tbody>\n",
       "    <tr>\n",
       "      <th>0</th>\n",
       "      <td>Keinosuke Okazaki</td>\n",
       "    </tr>\n",
       "    <tr>\n",
       "      <th>1</th>\n",
       "      <td>Toru Watanabe</td>\n",
       "    </tr>\n",
       "    <tr>\n",
       "      <th>2</th>\n",
       "      <td>Isao Saito</td>\n",
       "    </tr>\n",
       "    <tr>\n",
       "      <th>3</th>\n",
       "      <td>Jun-Ichiro Murayama</td>\n",
       "    </tr>\n",
       "    <tr>\n",
       "      <th>4</th>\n",
       "      <td>Kohki Shinozaki</td>\n",
       "    </tr>\n",
       "    <tr>\n",
       "      <th>...</th>\n",
       "      <td>...</td>\n",
       "    </tr>\n",
       "    <tr>\n",
       "      <th>156244</th>\n",
       "      <td>Tomas L Takahata</td>\n",
       "    </tr>\n",
       "    <tr>\n",
       "      <th>156245</th>\n",
       "      <td>Tomas L Zhou</td>\n",
       "    </tr>\n",
       "    <tr>\n",
       "      <th>156246</th>\n",
       "      <td>Steven A Ye</td>\n",
       "    </tr>\n",
       "    <tr>\n",
       "      <th>156247</th>\n",
       "      <td>Steven A Sun</td>\n",
       "    </tr>\n",
       "    <tr>\n",
       "      <th>156248</th>\n",
       "      <td>Allen D Itoh</td>\n",
       "    </tr>\n",
       "  </tbody>\n",
       "</table>\n",
       "<p>156249 rows × 1 columns</p>\n",
       "</div>"
      ],
      "text/plain": [
       "                          0\n",
       "0         Keinosuke Okazaki\n",
       "1             Toru Watanabe\n",
       "2                Isao Saito\n",
       "3       Jun-Ichiro Murayama\n",
       "4           Kohki Shinozaki\n",
       "...                     ...\n",
       "156244     Tomas L Takahata\n",
       "156245         Tomas L Zhou\n",
       "156246          Steven A Ye\n",
       "156247         Steven A Sun\n",
       "156248         Allen D Itoh\n",
       "\n",
       "[156249 rows x 1 columns]"
      ]
     },
     "execution_count": 123,
     "metadata": {},
     "output_type": "execute_result"
    }
   ],
   "source": [
    "article_names"
   ]
  },
  {
   "cell_type": "code",
   "execution_count": null,
   "metadata": {},
   "outputs": [],
   "source": []
  }
 ],
 "metadata": {
  "kernelspec": {
   "display_name": "Python 3.8.12 ('base')",
   "language": "python",
   "name": "python3"
  },
  "language_info": {
   "codemirror_mode": {
    "name": "ipython",
    "version": 3
   },
   "file_extension": ".py",
   "mimetype": "text/x-python",
   "name": "python",
   "nbconvert_exporter": "python",
   "pygments_lexer": "ipython3",
   "version": "3.8.12"
  },
  "orig_nbformat": 4,
  "vscode": {
   "interpreter": {
    "hash": "ca1b872015604588654afab8889c327752f46265fe55163fa640f2d3ca6aaea6"
   }
  }
 },
 "nbformat": 4,
 "nbformat_minor": 2
}
