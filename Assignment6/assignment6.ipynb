{
 "cells": [
  {
   "cell_type": "code",
   "execution_count": 1,
   "metadata": {},
   "outputs": [],
   "source": [
    "import csv\n",
    "import glob\n",
    "import pickle\n",
    "import numpy as np\n",
    "import pandas as pd\n",
    "import networkx as nx\n",
    "import dask.dataframe as dd\n",
    "import multiprocessing as mp\n",
    "import xml.etree.ElementTree as ET"
   ]
  },
  {
   "cell_type": "markdown",
   "metadata": {},
   "source": [
    "* <s> How large a group of co-authors does the average publication have? </s>\n",
    "* Do authors mostly publish using always the same group of authors?\n",
    "* Do authors mainly reference papers with other authors with whom they've co-authored papers (including themselves)?\n",
    "* What is the distribution in time for citations of papers in general, and for papers with the highest number of citations? Do they differ?\n",
    "* Is there a correlation between citations and the number of keywords that papers share? I.e. papers which share the same subject cite each other more often.\n",
    "* For the most-cited papers (define your own cutoff), is the correlation in shared keywords between them and the papers that cite them different from (5) "
   ]
  },
  {
   "cell_type": "markdown",
   "metadata": {},
   "source": [
    "# Reading and combining pickles."
   ]
  },
  {
   "cell_type": "code",
   "execution_count": 2,
   "metadata": {},
   "outputs": [],
   "source": [
    "pickle_path = '/students/2021-2022/master/Rients_DSLS/pickle_6/'\n",
    "pickles = glob.glob(pickle_path + 'pubmed21n*.pkl')"
   ]
  },
  {
   "cell_type": "code",
   "execution_count": null,
   "metadata": {},
   "outputs": [],
   "source": [
    "# Creating a bipartite graph of papers and authors.\n",
    "# Using networkx\n",
    "full_graph = nx.Graph()\n",
    "nr = 0\n",
    "for pickle in pickles:\n",
    "    # Creating a pandas dataframe from each pickle\n",
    "    df = pd.read_pickle(pickle)\n",
    "    nr += 1 \n",
    "    # Creating 1 graph from the dataframe.\n",
    "    for l, p in zip(df[0],df[1]):\n",
    "        full_graph.add_edge(l,p)\n",
    "    print('Added nodes to graph', nr)\n",
    "# Creating a 4.3 gb graph.\n",
    "#nx.write_gpickle(full_graph, path='/students/2021-2022/master/Rients_DSLS/pickle_graph/full_graph.pkl')\n",
    "#~ 11 min"
   ]
  },
  {
   "cell_type": "code",
   "execution_count": null,
   "metadata": {},
   "outputs": [],
   "source": [
    "# Creating a dataframe that has all the authors and their corresponding paper.\n",
    "# Using dask\n",
    "ddf2 = dd\n",
    "ddf_list = []\n",
    "\n",
    "for pickle in pickles:\n",
    "    # Creating a pandas dataframe from each pickle\n",
    "    df = pd.read_pickle(pickle)\n",
    "\n",
    "    # Turning pandas df into a dask dataframe.\n",
    "    ddf = dd.from_pandas(df, npartitions=8)\n",
    "    ddf_list.append(ddf)   \n",
    "    nr = len(ddf_list)\n",
    "    print('list size: ', nr, '/1062')\n",
    "\n",
    "print('Combining dataframes. ETA: ~20 sec')\n",
    "full_frame = dd.multi.concat(ddf_list)\n",
    "# ~2 min"
   ]
  },
  {
   "cell_type": "markdown",
   "metadata": {},
   "source": [
    "## Question 1\n",
    "How large a group of co-authors does the average publication have?\n",
    "\n",
    "How to answer: <br>\n",
    "Check the total amount of authors divided by the amount of unique pubmedIDs."
   ]
  },
  {
   "cell_type": "code",
   "execution_count": null,
   "metadata": {},
   "outputs": [],
   "source": [
    "# Question1.\n",
    "Full_df = full_frame\n",
    "total = len(Full_df) \n",
    "uniques = Full_df[0].nunique().compute()\n",
    "average_authors = total / uniques"
   ]
  },
  {
   "cell_type": "code",
   "execution_count": null,
   "metadata": {},
   "outputs": [
    {
     "name": "stdout",
     "output_type": "stream",
     "text": [
      "The papers have 4.1985290298819535 authors on average\n"
     ]
    }
   ],
   "source": [
    "# Writing the answers.\n",
    "with open('answers.csv', mode='w') as csv_file:\n",
    "    answer_writer = csv.writer(csv_file, delimiter=',', quotechar='\"', quoting=csv.QUOTE_MINIMAL)\n",
    "    answer_writer.writerow(['How large a group of co-authors does the average publication have?', round(average_authors,2)])\n",
    "    print('The papers have', average_authors, 'authors on average')"
   ]
  },
  {
   "cell_type": "markdown",
   "metadata": {},
   "source": [
    "## Graph observations"
   ]
  },
  {
   "cell_type": "code",
   "execution_count": null,
   "metadata": {},
   "outputs": [],
   "source": [
    "loaded_graph = nx.read_gpickle('/students/2021-2022/master/Rients_DSLS/pickle_graph/full_graph.pkl')\n",
    "# ~ 7 minutes."
   ]
  },
  {
   "cell_type": "code",
   "execution_count": null,
   "metadata": {},
   "outputs": [],
   "source": [
    "# In total there are 48996125 nodes.\n",
    "total_nodes = len(loaded_graph)"
   ]
  },
  {
   "cell_type": "code",
   "execution_count": null,
   "metadata": {},
   "outputs": [
    {
     "data": {
      "text/plain": [
       "727593"
      ]
     },
     "execution_count": 3,
     "metadata": {},
     "output_type": "execute_result"
    }
   ],
   "source": [
    "# Loading all the subgraphs.\n",
    "loaded_components = sorted(nx.connected_components(loaded_graph), key=len, reverse=True)\n",
    "# In total 727593 different subgraphs exist. \n",
    "total_cc = len(loaded_components)\n",
    "total_cc\n",
    "# ~ 3m 25 min"
   ]
  },
  {
   "cell_type": "code",
   "execution_count": null,
   "metadata": {},
   "outputs": [
    {
     "data": {
      "text/plain": [
       "46720986"
      ]
     },
     "execution_count": 4,
     "metadata": {},
     "output_type": "execute_result"
    }
   ],
   "source": [
    "# The first subgraph has 46720986 nodes\n",
    "loaded_sg0 = loaded_graph.subgraph(loaded_components[0])\n",
    "length_sg0 = len(loaded_sg0)\n",
    "length_sg0"
   ]
  },
  {
   "cell_type": "code",
   "execution_count": null,
   "metadata": {},
   "outputs": [],
   "source": [
    "# Creating another 4.5gb graph. \n",
    "# Weirdly enough 200mb larger than the complete graph.\n",
    "# Using pickle is the most efficient.\n",
    "nx.write_gpickle(loaded_sg0, path='/students/2021-2022/master/Rients_DSLS/pickle_graph/full_sg.pkl')\n",
    "# ~5 min"
   ]
  },
  {
   "cell_type": "code",
   "execution_count": null,
   "metadata": {},
   "outputs": [
    {
     "data": {
      "text/plain": [
       "1101"
      ]
     },
     "execution_count": 84,
     "metadata": {},
     "output_type": "execute_result"
    }
   ],
   "source": [
    "# The second already drops down to 1101\n",
    "# In this graph all articles are written by 'springer medizin' a german publication company. No co-authors and no connections.\n",
    "loaded_sg1 = loaded_graph.subgraph(loaded_components[1])\n",
    "length_sg1 = len(loaded_sg1)\n",
    "length_sg1"
   ]
  },
  {
   "cell_type": "code",
   "execution_count": null,
   "metadata": {},
   "outputs": [
    {
     "data": {
      "text/plain": [
       "95.35649196747701"
      ]
     },
     "execution_count": 87,
     "metadata": {},
     "output_type": "execute_result"
    }
   ],
   "source": [
    "# 95% of all the nodes are in the first connected subgraph.\n",
    "(length_sg0 / total_nodes)*100"
   ]
  },
  {
   "cell_type": "code",
   "execution_count": null,
   "metadata": {},
   "outputs": [
    {
     "data": {
      "image/png": "[encoded data removed]",
      "text/plain": [
       "<Figure size 432x288 with 1 Axes>"
      ]
     },
     "metadata": {},
     "output_type": "display_data"
    }
   ],
   "source": [
    "# a lot of the non main connected graphs look like this.\n",
    "loaded_sg3000 = loaded_graph.subgraph(loaded_components[3000])\n",
    "nx.draw(loaded_sg3000, with_labels=True)\n",
    "# a author that never uses a co author with multiple old papers  "
   ]
  },
  {
   "cell_type": "markdown",
   "metadata": {},
   "source": [
    "I could try and incorperate all the subgraphs into my answers. <br>\n",
    "But doing this will require a lot more work for I believe not a lot more answers. \n",
    "\n",
    "A lot of these graphs are old authors that have written a lot of papers with no co-author. <Br>\n",
    "And also a lot of  'company authors' like 'Food and Drug Administration' and 'springer medizin' hiding the actual authors.\n",
    "\n",
    "Therefore I will just take the first subgraph representing the 95% of data as main graph"
   ]
  },
  {
   "cell_type": "code",
   "execution_count": null,
   "metadata": {},
   "outputs": [
    {
     "data": {
      "text/plain": [
       "[('Wei Wang', 15254),\n",
       " ('Wei Zhang', 13897),\n",
       " ('Wei Li', 11040),\n",
       " ('Jing Wang', 10499),\n",
       " ('Yan Li', 10418),\n",
       " ('Yan Wang', 9503),\n",
       " ('Jing Li', 9494),\n",
       " ('Lei Zhang', 9405),\n",
       " ('Yang Liu', 9296),\n",
       " ('Yan Zhang', 9282)]"
      ]
     },
     "execution_count": 90,
     "metadata": {},
     "output_type": "execute_result"
    }
   ],
   "source": [
    "# This shows the nodes with the most connections. \n",
    "# Aka the authors with the most papers. (or the papers with the most authors but that won't show up in the top)\n",
    "# It shows some authors with 15k + papers.\n",
    "# Altough with very common names so it is probably more than 1 author but with the given xml file there is no way to check this.\n",
    "sorted(loaded_sg0.degree, key=lambda x: x[1], reverse=True)[:10]\n",
    "# ~ 6.5 min"
   ]
  },
  {
   "cell_type": "code",
   "execution_count": null,
   "metadata": {},
   "outputs": [],
   "source": [
    "#Computing centrality\n",
    "degCent = nx.degree_centrality(loaded_sg0)\n",
    "#Descending order sorting centrality\n",
    "degCent_sorted=dict(sorted(degCent.items(), key=lambda item: item[1],reverse=True))\n",
    "# ~ 7 mins"
   ]
  },
  {
   "cell_type": "markdown",
   "metadata": {},
   "source": [
    "## Question 2\n",
    "Do authors mostly publish using always the same group of authors?\n",
    "\n",
    "How to answer, notes: <br>\n",
    "\n",
    "Check if neighbouring nodes often share the same neighbours? <br>\n",
    "Check for communities. <br>\n",
    "Network transitivity <br>\n",
    "Check for modularity - difficult in bipartite graphs. <br>\n",
    "Guimeras modularity  https://www.researchgate.net/publication/5915523_Module_identification_in_bipartite_and_directed_networks <br>\n",
    "Check for modular structure\n",
    "<br> <br>\n",
    "Plotting the bipartite map and apply clustering to check for communities  <br>\n",
    "Will require some speciliased program. \n",
    "\n",
    "<br>\n",
    "Instead of a bipartite graph. \n",
    "Make a citation graph with only papers. Adding authors as attributes.\n",
    "And see how often the papers share more than one author.\n",
    "\n",
    "\n"
   ]
  },
  {
   "cell_type": "code",
   "execution_count": null,
   "metadata": {},
   "outputs": [],
   "source": [
    "trans_sg0 = nx.transitivity(loaded_sg0)\n",
    "# Crashed after running for 8 hours."
   ]
  },
  {
   "cell_type": "code",
   "execution_count": null,
   "metadata": {},
   "outputs": [],
   "source": [
    "print(trans_sg0)"
   ]
  }
 ],
 "metadata": {
  "kernelspec": {
   "display_name": "Python 3.8.12 ('base')",
   "language": "python",
   "name": "python3"
  },
  "language_info": {
   "codemirror_mode": {
    "name": "ipython",
    "version": 3
   },
   "file_extension": ".py",
   "mimetype": "text/x-python",
   "name": "python",
   "nbconvert_exporter": "python",
   "pygments_lexer": "ipython3",
   "version": "3.8.12"
  },
  "orig_nbformat": 4,
  "vscode": {
   "interpreter": {
    "hash": "ca1b872015604588654afab8889c327752f46265fe55163fa640f2d3ca6aaea6"
   }
  }
 },
 "nbformat": 4,
 "nbformat_minor": 2
}
