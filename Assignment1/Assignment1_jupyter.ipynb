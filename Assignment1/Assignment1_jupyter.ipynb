{
 "cells": [
  {
   "cell_type": "code",
   "execution_count": 1,
   "metadata": {},
   "outputs": [],
   "source": [
    "import multiprocessing as mp\n",
    "import Bio\n",
    "from Bio import Entrez\n",
    "from Bio import Medline\n",
    "import json\n",
    "import numpy as np\n",
    "import argparse as ap"
   ]
  },
  {
   "cell_type": "code",
   "execution_count": 2,
   "metadata": {},
   "outputs": [],
   "source": [
    "Entrez.api_key = 'b73a5ffde89ba2ae4feca63960fdac659009'\n",
    "Entrez.email = 'rie123@live.nl'\n",
    "pmid = \"30049270\""
   ]
  },
  {
   "cell_type": "code",
   "execution_count": 3,
   "metadata": {},
   "outputs": [],
   "source": [
    "def final_script(pmid):\n",
    "    references = []\n",
    "    k = 0\n",
    "    record = Entrez.elink(dbfrom=\"pubmed\",\n",
    "                            db=\"pmc\",\n",
    "                            LinkName=\"pubmed_pmc_refs\",\n",
    "                            id=pmid,\n",
    "                            api_key='b73a5ffde89ba2ae4feca63960fdac659009')\n",
    "\n",
    "    record = Entrez.read(record)\n",
    "    records = record[0]['LinkSetDb'][0]['Link']\n",
    "    for link in records:\n",
    "        references.append(\"\\'\" + link['Id'] + \"\\'\")\n",
    "        #references.append(link['Id'])\n",
    "\n",
    "    return references"
   ]
  },
  {
   "cell_type": "code",
   "execution_count": 4,
   "metadata": {},
   "outputs": [],
   "source": [
    "def fetcher(pmid_ref):\n",
    "    \n",
    "    title = pmid_ref.replace(\"\\'\",\"\")\n",
    "\n",
    "    handle = Entrez.efetch(db=\"pmc\", id=pmid_ref, rettype=\"XML\", retmode=\"text\",\n",
    "                        api_key='b73a5ffde89ba2ae4feca63960fdac659009')\n",
    "\n",
    "    with open(f'output/{title}.xml', 'wb') as file:\n",
    "        file.write(handle.read())\n",
    "        file.close()\n",
    "        handle.close()\n",
    "        print('Finnished')\n"
   ]
  },
  {
   "cell_type": "code",
   "execution_count": 5,
   "metadata": {},
   "outputs": [
    {
     "name": "stdout",
     "output_type": "stream",
     "text": [
      "Finnished\n"
     ]
    }
   ],
   "source": [
    "fetcher(\"30049270\")"
   ]
  },
  {
   "cell_type": "code",
   "execution_count": 43,
   "metadata": {},
   "outputs": [],
   "source": [
    "def runner(pmid, k=10):\n",
    "    refs = final_script(pmid)\n",
    "\n",
    "    refs = refs[:k]\n",
    "\n",
    "    cpus = mp.cpu_count()\n",
    "\n",
    "    with mp.Pool(cpus) as pool:\n",
    "        results = pool.map(fetcher, refs)"
   ]
  },
  {
   "cell_type": "code",
   "execution_count": 44,
   "metadata": {},
   "outputs": [],
   "source": [
    "runner(\"30049270\",5)"
   ]
  },
  {
   "cell_type": "code",
   "execution_count": 38,
   "metadata": {},
   "outputs": [
    {
     "name": "stderr",
     "output_type": "stream",
     "text": [
      "usage: ipykernel_launcher.py [-h] [-n N] pubmed_id\n",
      "ipykernel_launcher.py: error: the following arguments are required: pubmed_id\n"
     ]
    },
    {
     "ename": "SystemExit",
     "evalue": "2",
     "output_type": "error",
     "traceback": [
      "An exception has occurred, use %tb to see the full traceback.\n",
      "\u001b[1;31mSystemExit\u001b[0m\u001b[1;31m:\u001b[0m 2\n"
     ]
    },
    {
     "name": "stderr",
     "output_type": "stream",
     "text": [
      "c:\\Users\\rie12\\anaconda3\\envs\\prog\\lib\\site-packages\\IPython\\core\\interactiveshell.py:3452: UserWarning: To exit: use 'exit', 'quit', or Ctrl-D.\n",
      "  warn(\"To exit: use 'exit', 'quit', or Ctrl-D.\", stacklevel=1)\n"
     ]
    }
   ],
   "source": [
    "if __name__ == \"__main__\":\n",
    "    argparser = ap.ArgumentParser(description=\"Script that downloads (default) 10 articles referenced by the given PubMed ID concurrently.\")\n",
    "    argparser.add_argument(\"-n\", action=\"store\",\n",
    "                           dest=\"n\", required=False, type=int,\n",
    "                           help=\"Number of references to download concurrently.\")\n",
    "    argparser.add_argument(\"pubmed_id\", action=\"store\", type=str, nargs=1, help=\"Pubmed ID of the article to harvest for references to download.\")\n",
    "    args = argparser.parse_args()\n",
    "    print(\"Getting: \", args.pubmed_id)\n",
    "\n",
    "    runner(args.pubmed_id, args.n)\n",
    "\n",
    "    "
   ]
  },
  {
   "cell_type": "code",
   "execution_count": null,
   "metadata": {},
   "outputs": [],
   "source": []
  }
 ],
 "metadata": {
  "interpreter": {
   "hash": "6fb11f3da31993b6b771c1afe049802c8e31320ab3b51a45684f31f055e3b17e"
  },
  "kernelspec": {
   "display_name": "Python 3.9.7 ('prog')",
   "language": "python",
   "name": "python3"
  },
  "language_info": {
   "codemirror_mode": {
    "name": "ipython",
    "version": 3
   },
   "file_extension": ".py",
   "mimetype": "text/x-python",
   "name": "python",
   "nbconvert_exporter": "python",
   "pygments_lexer": "ipython3",
   "version": "3.9.7"
  },
  "orig_nbformat": 4
 },
 "nbformat": 4,
 "nbformat_minor": 2
}
